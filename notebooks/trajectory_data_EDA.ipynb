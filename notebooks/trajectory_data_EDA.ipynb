{
 "cells": [
  {
   "cell_type": "code",
   "execution_count": 1,
   "metadata": {},
   "outputs": [],
   "source": [
    "import pandas as pd"
   ]
  },
  {
   "cell_type": "code",
   "execution_count": 2,
   "metadata": {},
   "outputs": [
    {
     "name": "stderr",
     "output_type": "stream",
     "text": [
      "/tmp/ipykernel_122837/2972292615.py:1: ParserWarning: Falling back to the 'python' engine because the 'c' engine does not support regex separators (separators > 1 char and different from '\\s+' are interpreted as regex); you can avoid this warning by specifying engine='python'.\n",
      "  df = pd.read_csv('../data/20181024_d1_0900_0930.csv', sep=\"[;]\", index_col=False, error_bad_lines=False)\n",
      "/tmp/ipykernel_122837/2972292615.py:1: FutureWarning: The error_bad_lines argument has been deprecated and will be removed in a future version. Use on_bad_lines in the future.\n",
      "\n",
      "\n",
      "  df = pd.read_csv('../data/20181024_d1_0900_0930.csv', sep=\"[;]\", index_col=False, error_bad_lines=False)\n",
      "/tmp/ipykernel_122837/2972292615.py:1: ParserWarning: Length of header or names does not match length of data. This leads to a loss of data with index_col=False.\n",
      "  df = pd.read_csv('../data/20181024_d1_0900_0930.csv', sep=\"[;]\", index_col=False, error_bad_lines=False)\n"
     ]
    }
   ],
   "source": [
    "df = pd.read_csv('../data/20181024_d1_0900_0930.csv', sep=\"[;]\", index_col=False, error_bad_lines=False)"
   ]
  },
  {
   "cell_type": "code",
   "execution_count": 3,
   "metadata": {},
   "outputs": [
    {
     "data": {
      "text/html": [
       "<div>\n",
       "<style scoped>\n",
       "    .dataframe tbody tr th:only-of-type {\n",
       "        vertical-align: middle;\n",
       "    }\n",
       "\n",
       "    .dataframe tbody tr th {\n",
       "        vertical-align: top;\n",
       "    }\n",
       "\n",
       "    .dataframe thead th {\n",
       "        text-align: right;\n",
       "    }\n",
       "</style>\n",
       "<table border=\"1\" class=\"dataframe\">\n",
       "  <thead>\n",
       "    <tr style=\"text-align: right;\">\n",
       "      <th></th>\n",
       "      <th>track_id</th>\n",
       "      <th>type</th>\n",
       "      <th>traveled_d</th>\n",
       "      <th>avg_speed</th>\n",
       "      <th>lat</th>\n",
       "      <th>lon</th>\n",
       "      <th>speed</th>\n",
       "      <th>lon_acc</th>\n",
       "      <th>lat_acc</th>\n",
       "      <th>time</th>\n",
       "    </tr>\n",
       "  </thead>\n",
       "  <tbody>\n",
       "    <tr>\n",
       "      <th>0</th>\n",
       "      <td>1</td>\n",
       "      <td>Car</td>\n",
       "      <td>40.02</td>\n",
       "      <td>42.378689</td>\n",
       "      <td>37.976969</td>\n",
       "      <td>23.737802</td>\n",
       "      <td>45.3400</td>\n",
       "      <td>0.0004</td>\n",
       "      <td>0.0258</td>\n",
       "      <td>0.0</td>\n",
       "    </tr>\n",
       "    <tr>\n",
       "      <th>1</th>\n",
       "      <td>2</td>\n",
       "      <td>Motorcycle</td>\n",
       "      <td>42.18</td>\n",
       "      <td>28.119617</td>\n",
       "      <td>37.977468</td>\n",
       "      <td>23.737610</td>\n",
       "      <td>29.9975</td>\n",
       "      <td>0.0403</td>\n",
       "      <td>-0.1150</td>\n",
       "      <td>0.0</td>\n",
       "    </tr>\n",
       "    <tr>\n",
       "      <th>2</th>\n",
       "      <td>3</td>\n",
       "      <td>Car</td>\n",
       "      <td>21.35</td>\n",
       "      <td>12.808216</td>\n",
       "      <td>37.977634</td>\n",
       "      <td>23.737502</td>\n",
       "      <td>14.6204</td>\n",
       "      <td>-0.0127</td>\n",
       "      <td>0.2705</td>\n",
       "      <td>0.0</td>\n",
       "    </tr>\n",
       "    <tr>\n",
       "      <th>3</th>\n",
       "      <td>4</td>\n",
       "      <td>Car</td>\n",
       "      <td>145.28</td>\n",
       "      <td>33.961468</td>\n",
       "      <td>37.977863</td>\n",
       "      <td>23.737325</td>\n",
       "      <td>34.1970</td>\n",
       "      <td>0.0318</td>\n",
       "      <td>0.0879</td>\n",
       "      <td>0.0</td>\n",
       "    </tr>\n",
       "    <tr>\n",
       "      <th>4</th>\n",
       "      <td>5</td>\n",
       "      <td>Car</td>\n",
       "      <td>305.48</td>\n",
       "      <td>2.474650</td>\n",
       "      <td>37.979434</td>\n",
       "      <td>23.735979</td>\n",
       "      <td>0.0000</td>\n",
       "      <td>0.0000</td>\n",
       "      <td>0.0000</td>\n",
       "      <td>0.0</td>\n",
       "    </tr>\n",
       "  </tbody>\n",
       "</table>\n",
       "</div>"
      ],
      "text/plain": [
       "   track_id         type   traveled_d   avg_speed        lat        lon  \\\n",
       "0         1          Car        40.02   42.378689  37.976969  23.737802   \n",
       "1         2   Motorcycle        42.18   28.119617  37.977468  23.737610   \n",
       "2         3          Car        21.35   12.808216  37.977634  23.737502   \n",
       "3         4          Car       145.28   33.961468  37.977863  23.737325   \n",
       "4         5          Car       305.48    2.474650  37.979434  23.735979   \n",
       "\n",
       "     speed   lon_acc   lat_acc   time  \n",
       "0  45.3400    0.0004    0.0258    0.0  \n",
       "1  29.9975    0.0403   -0.1150    0.0  \n",
       "2  14.6204   -0.0127    0.2705    0.0  \n",
       "3  34.1970    0.0318    0.0879    0.0  \n",
       "4   0.0000    0.0000    0.0000    0.0  "
      ]
     },
     "execution_count": 3,
     "metadata": {},
     "output_type": "execute_result"
    }
   ],
   "source": [
    "df.head()"
   ]
  },
  {
   "cell_type": "code",
   "execution_count": 4,
   "metadata": {},
   "outputs": [
    {
     "data": {
      "text/plain": [
       "Index(['track_id', ' type', ' traveled_d', ' avg_speed', ' lat', ' lon',\n",
       "       ' speed', ' lon_acc', ' lat_acc', ' time'],\n",
       "      dtype='object')"
      ]
     },
     "execution_count": 4,
     "metadata": {},
     "output_type": "execute_result"
    }
   ],
   "source": [
    "df.columns"
   ]
  },
  {
   "cell_type": "code",
   "execution_count": 5,
   "metadata": {},
   "outputs": [
    {
     "data": {
      "text/plain": [
       "(1113, 10)"
      ]
     },
     "execution_count": 5,
     "metadata": {},
     "output_type": "execute_result"
    }
   ],
   "source": [
    "df.shape"
   ]
  },
  {
   "cell_type": "code",
   "execution_count": null,
   "metadata": {},
   "outputs": [],
   "source": []
  }
 ],
 "metadata": {
  "kernelspec": {
   "display_name": "Python 3.9.12 ('scalable_dw': venv)",
   "language": "python",
   "name": "python3"
  },
  "language_info": {
   "codemirror_mode": {
    "name": "ipython",
    "version": 3
   },
   "file_extension": ".py",
   "mimetype": "text/x-python",
   "name": "python",
   "nbconvert_exporter": "python",
   "pygments_lexer": "ipython3",
   "version": "3.9.12"
  },
  "orig_nbformat": 4,
  "vscode": {
   "interpreter": {
    "hash": "9433d77ff170565f9e9dc30269833b2be02c0ba27914f035eae465c490c37d5b"
   }
  }
 },
 "nbformat": 4,
 "nbformat_minor": 2
}
